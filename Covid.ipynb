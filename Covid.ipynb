{
  "nbformat": 4,
  "nbformat_minor": 0,
  "metadata": {
    "colab": {
      "name": "Covid.ipynb",
      "provenance": [],
      "collapsed_sections": [],
      "authorship_tag": "ABX9TyNCuuhBRpWqxx2fcoH9diYV",
      "include_colab_link": true
    },
    "kernelspec": {
      "name": "python3",
      "display_name": "Python 3"
    },
    "language_info": {
      "name": "python"
    }
  },
  "cells": [
    {
      "cell_type": "markdown",
      "metadata": {
        "id": "view-in-github",
        "colab_type": "text"
      },
      "source": [
        "<a href=\"https://colab.research.google.com/github/jquilapan/covid/blob/master/Covid.ipynb\" target=\"_parent\"><img src=\"https://colab.research.google.com/assets/colab-badge.svg\" alt=\"Open In Colab\"/></a>"
      ]
    },
    {
      "cell_type": "markdown",
      "metadata": {
        "id": "05e1TZs6Qtfu"
      },
      "source": [
        "# **1.- Paquetes a utilizar**\n",
        "Se importan los paquetes que se usarán."
      ]
    },
    {
      "cell_type": "code",
      "metadata": {
        "id": "Qni98MbZdAGV"
      },
      "source": [
        "import pandas as pd\n",
        "import numpy as np\n",
        "from sklearn.svm import SVR"
      ],
      "execution_count": 67,
      "outputs": []
    },
    {
      "cell_type": "markdown",
      "metadata": {
        "id": "_ijEhwFtRFLC"
      },
      "source": [
        "# **2.- Dataset**\n",
        "Se declara la url de donde proviene el archivo a importar, en este caso, se extrae del github del Ministerio de Ciencias de Chile."
      ]
    },
    {
      "cell_type": "code",
      "metadata": {
        "id": "YIaMTSYfdCxO"
      },
      "source": [
        "url = 'https://raw.githubusercontent.com/MinCiencia/Datos-COVID19/master/output/producto5/TotalesNacionales_T.csv'"
      ],
      "execution_count": 68,
      "outputs": []
    },
    {
      "cell_type": "code",
      "metadata": {
        "id": "QwN8KUnfdGyj"
      },
      "source": [
        "data = pd.read_csv(url)\n",
        "data = data[['Fecha', 'Casos nuevos totales']]\n",
        "data = data.reset_index(drop=True)\n",
        "data['correlativo'] = np.arange(len(data))\n",
        "data['Fecha'] = pd.to_datetime(data['Fecha'])\n",
        "data = data.rename(columns={'Casos nuevos totales':'casos_totales'})"
      ],
      "execution_count": 69,
      "outputs": []
    },
    {
      "cell_type": "markdown",
      "metadata": {
        "id": "wJLWg82yRXpT"
      },
      "source": [
        "# **3.- Modelo a Utilizar**\n",
        "Se declara el modelo a utilizar, para este ejemplo, usaremos el modelo Support Vector Regressor."
      ]
    },
    {
      "cell_type": "code",
      "metadata": {
        "id": "hri8uvmSdJSe"
      },
      "source": [
        "svr_lin = SVR(C=1e3)"
      ],
      "execution_count": 70,
      "outputs": []
    },
    {
      "cell_type": "code",
      "metadata": {
        "id": "sGU7-k07ycd9"
      },
      "source": [
        "correlativo = data['correlativo'].tolist()\n",
        "casos = data['casos_totales'].tolist()\n",
        "correlativo_2 = np.reshape(correlativo, (len(correlativo), 1))\n",
        "svr_lin.fit(correlativo_2, casos)\n",
        "for x in range(7):\n",
        "  predict_value = [max(correlativo) + 1]\n",
        "  predict_value = np.reshape(predict_value, (len(predict_value), 1))\n",
        "  pred = svr_lin.predict(predict_value)[0]\n",
        "  correlativo.append(max(correlativo)+1)\n",
        "  casos.append(pred)\n",
        "forecast = pd.DataFrame(list(zip(correlativo, casos)), columns=['correlativo', 'svr'])"
      ],
      "execution_count": 71,
      "outputs": []
    },
    {
      "cell_type": "code",
      "metadata": {
        "id": "yKfsrGcT2H9O"
      },
      "source": [
        "last_month = max(data['Fecha'].unique())\n",
        "last_month = pd.to_datetime(last_month)"
      ],
      "execution_count": 72,
      "outputs": []
    },
    {
      "cell_type": "code",
      "metadata": {
        "id": "CpBJcRTK3QHS"
      },
      "source": [
        "last_correlativo = max(data.correlativo.unique())"
      ],
      "execution_count": 73,
      "outputs": []
    },
    {
      "cell_type": "code",
      "metadata": {
        "id": "3xgrYk6d3Wws"
      },
      "source": [
        "meses_predecir = []\n",
        "numeros_predecir = []\n",
        "for dia in range(0, 7):\n",
        "  meses_predecir.append(last_month + pd.tseries.offsets.DateOffset(days=dia+1))\n",
        "  numeros_predecir.append(last_correlativo + dia+1)"
      ],
      "execution_count": 74,
      "outputs": []
    },
    {
      "cell_type": "code",
      "metadata": {
        "id": "UebCM2tz4LLV"
      },
      "source": [
        "numeros_meses = pd.DataFrame(list(zip(meses_predecir, numeros_predecir)), columns=['Fecha','correlativo'])"
      ],
      "execution_count": 75,
      "outputs": []
    },
    {
      "cell_type": "code",
      "metadata": {
        "id": "FVfJFgsn4wnF"
      },
      "source": [
        "forecast_final = pd.merge(numeros_meses, forecast, left_on='correlativo', right_on='correlativo', how='left')"
      ],
      "execution_count": 76,
      "outputs": []
    },
    {
      "cell_type": "code",
      "metadata": {
        "colab": {
          "base_uri": "https://localhost:8080/",
          "height": 266
        },
        "id": "R-L98GdJ5lzy",
        "outputId": "9075ada0-0efe-4d82-fe45-cdbc875d496e"
      },
      "source": [
        "forecast_final"
      ],
      "execution_count": 77,
      "outputs": [
        {
          "output_type": "execute_result",
          "data": {
            "text/html": [
              "<div>\n",
              "<style scoped>\n",
              "    .dataframe tbody tr th:only-of-type {\n",
              "        vertical-align: middle;\n",
              "    }\n",
              "\n",
              "    .dataframe tbody tr th {\n",
              "        vertical-align: top;\n",
              "    }\n",
              "\n",
              "    .dataframe thead th {\n",
              "        text-align: right;\n",
              "    }\n",
              "</style>\n",
              "<table border=\"1\" class=\"dataframe\">\n",
              "  <thead>\n",
              "    <tr style=\"text-align: right;\">\n",
              "      <th></th>\n",
              "      <th>Fecha</th>\n",
              "      <th>correlativo</th>\n",
              "      <th>svr</th>\n",
              "    </tr>\n",
              "  </thead>\n",
              "  <tbody>\n",
              "    <tr>\n",
              "      <th>0</th>\n",
              "      <td>2021-06-13</td>\n",
              "      <td>468</td>\n",
              "      <td>6781.072550</td>\n",
              "    </tr>\n",
              "    <tr>\n",
              "      <th>1</th>\n",
              "      <td>2021-06-14</td>\n",
              "      <td>469</td>\n",
              "      <td>6777.363029</td>\n",
              "    </tr>\n",
              "    <tr>\n",
              "      <th>2</th>\n",
              "      <td>2021-06-15</td>\n",
              "      <td>470</td>\n",
              "      <td>6773.195845</td>\n",
              "    </tr>\n",
              "    <tr>\n",
              "      <th>3</th>\n",
              "      <td>2021-06-16</td>\n",
              "      <td>471</td>\n",
              "      <td>6768.574726</td>\n",
              "    </tr>\n",
              "    <tr>\n",
              "      <th>4</th>\n",
              "      <td>2021-06-17</td>\n",
              "      <td>472</td>\n",
              "      <td>6763.503505</td>\n",
              "    </tr>\n",
              "    <tr>\n",
              "      <th>5</th>\n",
              "      <td>2021-06-18</td>\n",
              "      <td>473</td>\n",
              "      <td>6757.986126</td>\n",
              "    </tr>\n",
              "    <tr>\n",
              "      <th>6</th>\n",
              "      <td>2021-06-19</td>\n",
              "      <td>474</td>\n",
              "      <td>6752.026636</td>\n",
              "    </tr>\n",
              "  </tbody>\n",
              "</table>\n",
              "</div>"
            ],
            "text/plain": [
              "       Fecha  correlativo          svr\n",
              "0 2021-06-13          468  6781.072550\n",
              "1 2021-06-14          469  6777.363029\n",
              "2 2021-06-15          470  6773.195845\n",
              "3 2021-06-16          471  6768.574726\n",
              "4 2021-06-17          472  6763.503505\n",
              "5 2021-06-18          473  6757.986126\n",
              "6 2021-06-19          474  6752.026636"
            ]
          },
          "metadata": {
            "tags": []
          },
          "execution_count": 77
        }
      ]
    }
  ]
}