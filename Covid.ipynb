{
  "nbformat": 4,
  "nbformat_minor": 0,
  "metadata": {
    "colab": {
      "name": "Covid.ipynb",
      "provenance": [],
      "collapsed_sections": [],
      "authorship_tag": "ABX9TyOOH7X3f2N+66D+79uuAs4f"
    },
    "kernelspec": {
      "name": "python3",
      "display_name": "Python 3"
    },
    "language_info": {
      "name": "python"
    }
  },
  "cells": [
    {
      "cell_type": "markdown",
      "metadata": {
        "id": "05e1TZs6Qtfu"
      },
      "source": [
        "# **1.- Paquetes a utilizar**\n",
        "Se importan los paquetes que se usarán."
      ]
    },
    {
      "cell_type": "code",
      "metadata": {
        "id": "Qni98MbZdAGV"
      },
      "source": [
        "import pandas as pd\n",
        "import numpy as np\n",
        "from sklearn.svm import SVR"
      ],
      "execution_count": 1,
      "outputs": []
    },
    {
      "cell_type": "markdown",
      "metadata": {
        "id": "_ijEhwFtRFLC"
      },
      "source": [
        "# **2.- Dataset**\n",
        "Se declara la url de donde proviene el archivo a importar, en este caso, se extrae del github del Ministerio de Ciencias de Chile."
      ]
    },
    {
      "cell_type": "code",
      "metadata": {
        "id": "YIaMTSYfdCxO"
      },
      "source": [
        "url = 'https://raw.githubusercontent.com/MinCiencia/Datos-COVID19/master/output/producto5/TotalesNacionales_T.csv'"
      ],
      "execution_count": 2,
      "outputs": []
    },
    {
      "cell_type": "code",
      "metadata": {
        "id": "QwN8KUnfdGyj"
      },
      "source": [
        "data = pd.read_csv(url)\n",
        "data = data[['Fecha', 'Casos nuevos totales']]\n",
        "data = data.reset_index(drop=True)\n",
        "data['correlativo'] = np.arange(len(data))\n",
        "data['Fecha'] = pd.to_datetime(data['Fecha'])\n",
        "data = data.rename(columns={'Casos nuevos totales':'casos_totales'})"
      ],
      "execution_count": 3,
      "outputs": []
    },
    {
      "cell_type": "markdown",
      "metadata": {
        "id": "wJLWg82yRXpT"
      },
      "source": [
        "# **3.- Modelo a Utilizar**\n",
        "Se declara el modelo a utilizar, para este ejemplo, usaremos el modelo Support Vector Regressor."
      ]
    },
    {
      "cell_type": "code",
      "metadata": {
        "id": "hri8uvmSdJSe"
      },
      "source": [
        "svr_lin = SVR(C=1e3)"
      ],
      "execution_count": 4,
      "outputs": []
    },
    {
      "cell_type": "markdown",
      "metadata": {
        "id": "GIhOnyPGYuxc"
      },
      "source": [
        "Se separan los números correlativos y la cantidad de casos totales, con lo que se entrena el modelo y se genera una predicción para 7 días."
      ]
    },
    {
      "cell_type": "code",
      "metadata": {
        "id": "sGU7-k07ycd9"
      },
      "source": [
        "correlativo = data['correlativo'].tolist()\n",
        "casos = data['casos_totales'].tolist()\n",
        "correlativo_2 = np.reshape(correlativo, (len(correlativo), 1))\n",
        "svr_lin.fit(correlativo_2, casos)\n",
        "for x in range(7):\n",
        "  predict_value = [max(correlativo) + 1]\n",
        "  predict_value = np.reshape(predict_value, (len(predict_value), 1))\n",
        "  pred = svr_lin.predict(predict_value)[0]\n",
        "  correlativo.append(max(correlativo)+1)\n",
        "  casos.append(pred)\n",
        "forecast = pd.DataFrame(list(zip(correlativo, casos)), columns=['correlativo', 'svr'])"
      ],
      "execution_count": 5,
      "outputs": []
    },
    {
      "cell_type": "markdown",
      "metadata": {
        "id": "NXIUBKHPaC0W"
      },
      "source": [
        "# **4.- Construcción del Futuro**\n",
        "Se construyen los días futuros para crear la combinación de fecha y cantidad de casos totales predichos."
      ]
    },
    {
      "cell_type": "code",
      "metadata": {
        "id": "3xgrYk6d3Wws"
      },
      "source": [
        "last_month = max(data['Fecha'].unique())\n",
        "last_month = pd.to_datetime(last_month)\n",
        "last_correlativo = max(data.correlativo.unique())\n",
        "meses_predecir = []\n",
        "numeros_predecir = []\n",
        "for dia in range(0, 7):\n",
        "  meses_predecir.append(last_month + pd.tseries.offsets.DateOffset(days=dia+1))\n",
        "  numeros_predecir.append(last_correlativo + dia+1)\n",
        "numeros_meses = pd.DataFrame(list(zip(meses_predecir, numeros_predecir)), columns=['Fecha','correlativo'])\n",
        "forecast_final = pd.merge(numeros_meses, forecast, left_on='correlativo', right_on='correlativo', how='left')"
      ],
      "execution_count": 6,
      "outputs": []
    },
    {
      "cell_type": "markdown",
      "metadata": {
        "id": "0x_L2lIL6UKu"
      },
      "source": [
        "#5.- Resultados de la Predicción\n",
        "Se muestra la predicción hecha para 7 días."
      ]
    },
    {
      "cell_type": "code",
      "metadata": {
        "colab": {
          "base_uri": "https://localhost:8080/",
          "height": 266
        },
        "id": "HxBBvFmwa3oE",
        "outputId": "9e7dcf18-660e-4e85-a818-b55ddbcd1298"
      },
      "source": [
        "forecast_final"
      ],
      "execution_count": 7,
      "outputs": [
        {
          "output_type": "execute_result",
          "data": {
            "text/html": [
              "<div>\n",
              "<style scoped>\n",
              "    .dataframe tbody tr th:only-of-type {\n",
              "        vertical-align: middle;\n",
              "    }\n",
              "\n",
              "    .dataframe tbody tr th {\n",
              "        vertical-align: top;\n",
              "    }\n",
              "\n",
              "    .dataframe thead th {\n",
              "        text-align: right;\n",
              "    }\n",
              "</style>\n",
              "<table border=\"1\" class=\"dataframe\">\n",
              "  <thead>\n",
              "    <tr style=\"text-align: right;\">\n",
              "      <th></th>\n",
              "      <th>Fecha</th>\n",
              "      <th>correlativo</th>\n",
              "      <th>svr</th>\n",
              "    </tr>\n",
              "  </thead>\n",
              "  <tbody>\n",
              "    <tr>\n",
              "      <th>0</th>\n",
              "      <td>2021-06-15</td>\n",
              "      <td>470</td>\n",
              "      <td>6776.642510</td>\n",
              "    </tr>\n",
              "    <tr>\n",
              "      <th>1</th>\n",
              "      <td>2021-06-16</td>\n",
              "      <td>471</td>\n",
              "      <td>6772.118431</td>\n",
              "    </tr>\n",
              "    <tr>\n",
              "      <th>2</th>\n",
              "      <td>2021-06-17</td>\n",
              "      <td>472</td>\n",
              "      <td>6767.144027</td>\n",
              "    </tr>\n",
              "    <tr>\n",
              "      <th>3</th>\n",
              "      <td>2021-06-18</td>\n",
              "      <td>473</td>\n",
              "      <td>6761.723193</td>\n",
              "    </tr>\n",
              "    <tr>\n",
              "      <th>4</th>\n",
              "      <td>2021-06-19</td>\n",
              "      <td>474</td>\n",
              "      <td>6755.859928</td>\n",
              "    </tr>\n",
              "    <tr>\n",
              "      <th>5</th>\n",
              "      <td>2021-06-20</td>\n",
              "      <td>475</td>\n",
              "      <td>6749.558338</td>\n",
              "    </tr>\n",
              "    <tr>\n",
              "      <th>6</th>\n",
              "      <td>2021-06-21</td>\n",
              "      <td>476</td>\n",
              "      <td>6742.822626</td>\n",
              "    </tr>\n",
              "  </tbody>\n",
              "</table>\n",
              "</div>"
            ],
            "text/plain": [
              "       Fecha  correlativo          svr\n",
              "0 2021-06-15          470  6776.642510\n",
              "1 2021-06-16          471  6772.118431\n",
              "2 2021-06-17          472  6767.144027\n",
              "3 2021-06-18          473  6761.723193\n",
              "4 2021-06-19          474  6755.859928\n",
              "5 2021-06-20          475  6749.558338\n",
              "6 2021-06-21          476  6742.822626"
            ]
          },
          "metadata": {
            "tags": []
          },
          "execution_count": 7
        }
      ]
    }
  ]
}